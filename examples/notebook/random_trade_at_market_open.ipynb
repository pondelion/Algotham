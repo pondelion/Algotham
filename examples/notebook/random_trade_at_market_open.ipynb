{
  "nbformat": 4,
  "nbformat_minor": 0,
  "metadata": {
    "colab": {
      "name": "random_trade_at_market_open.ipynb",
      "provenance": [],
      "collapsed_sections": []
    },
    "kernelspec": {
      "name": "python3",
      "display_name": "Python 3"
    }
  },
  "cells": [
    {
      "cell_type": "code",
      "metadata": {
        "id": "NrW0q42Hnpsq",
        "colab_type": "code",
        "colab": {
          "base_uri": "https://localhost:8080/",
          "height": 145
        },
        "outputId": "120da248-cab5-4695-cb21-af928fd8639d"
      },
      "source": [
        "!git clone https://github.com/pondelion/Algotham.git"
      ],
      "execution_count": 1,
      "outputs": [
        {
          "output_type": "stream",
          "text": [
            "Cloning into 'Algotham'...\n",
            "remote: Enumerating objects: 227, done.\u001b[K\n",
            "remote: Counting objects: 100% (227/227), done.\u001b[K\n",
            "remote: Compressing objects: 100% (138/138), done.\u001b[K\n",
            "remote: Total 227 (delta 88), reused 193 (delta 61), pack-reused 0\u001b[K\n",
            "Receiving objects: 100% (227/227), 32.60 KiB | 4.66 MiB/s, done.\n",
            "Resolving deltas: 100% (88/88), done.\n"
          ],
          "name": "stdout"
        }
      ]
    },
    {
      "cell_type": "code",
      "metadata": {
        "id": "NTVSIU47nyot",
        "colab_type": "code",
        "colab": {
          "base_uri": "https://localhost:8080/",
          "height": 35
        },
        "outputId": "2a0f8dfe-0f3c-401b-8b0a-f12316267351"
      },
      "source": [
        "%cd Algotham"
      ],
      "execution_count": 1,
      "outputs": [
        {
          "output_type": "stream",
          "text": [
            "/content/Algotham\n"
          ],
          "name": "stdout"
        }
      ]
    },
    {
      "cell_type": "code",
      "metadata": {
        "id": "Z-E_zoxNn2rJ",
        "colab_type": "code",
        "colab": {
          "base_uri": "https://localhost:8080/",
          "height": 35
        },
        "outputId": "802fb4b3-49f2-44e4-debe-0a5a3fc30ddd"
      },
      "source": [
        "ls"
      ],
      "execution_count": 3,
      "outputs": [
        {
          "output_type": "stream",
          "text": [
            "\u001b[0m\u001b[01;34malgotham\u001b[0m/  \u001b[01;34mexamples\u001b[0m/  Pipfile  Pipfile.lock  README.md  requirements.txt\n"
          ],
          "name": "stdout"
        }
      ]
    },
    {
      "cell_type": "code",
      "metadata": {
        "id": "8-LS71jyn93z",
        "colab_type": "code",
        "colab": {
          "base_uri": "https://localhost:8080/",
          "height": 1000
        },
        "outputId": "8d016fa2-d8df-41c1-f064-f2254a037995"
      },
      "source": [
        "!pip install -r requirements.txt"
      ],
      "execution_count": 4,
      "outputs": [
        {
          "output_type": "stream",
          "text": [
            "Collecting boto3==1.14.33\n",
            "\u001b[?25l  Downloading https://files.pythonhosted.org/packages/7a/05/d52d446a5abcbb73f6661559943ae5d93c42ecb18977670a2d21718774ec/boto3-1.14.33-py2.py3-none-any.whl (129kB)\n",
            "\u001b[K     |████████████████████████████████| 133kB 3.2MB/s \n",
            "\u001b[?25hCollecting botocore==1.17.33\n",
            "\u001b[?25l  Downloading https://files.pythonhosted.org/packages/ad/92/a134eb08fa2c96d105d22dd2f5fbf6af1e13d6fc349f76e61e07702e468a/botocore-1.17.33-py2.py3-none-any.whl (6.5MB)\n",
            "\u001b[K     |████████████████████████████████| 6.5MB 13.8MB/s \n",
            "\u001b[?25hRequirement already satisfied: docutils==0.15.2 in /usr/local/lib/python3.6/dist-packages (from -r requirements.txt (line 3)) (0.15.2)\n",
            "Requirement already satisfied: jmespath==0.10.0 in /usr/local/lib/python3.6/dist-packages (from -r requirements.txt (line 4)) (0.10.0)\n",
            "Collecting jpbizday==0.0.3\n",
            "  Downloading https://files.pythonhosted.org/packages/bb/21/a10b610bc2a79c8fcc217525df8928d9d90b183b57298dac7af85d88c34e/jpbizday-0.0.3.tar.gz\n",
            "Collecting jpholiday==0.1.4\n",
            "  Downloading https://files.pythonhosted.org/packages/e5/39/89785af05a42c2b1f44c1a1958ce05d73d1003a1ea87bb4045c1516c935b/jpholiday-0.1.4-py3-none-any.whl\n",
            "Collecting numpy==1.19.1\n",
            "\u001b[?25l  Downloading https://files.pythonhosted.org/packages/b1/9a/7d474ba0860a41f771c9523d8c4ea56b084840b5ca4092d96bdee8a3b684/numpy-1.19.1-cp36-cp36m-manylinux2010_x86_64.whl (14.5MB)\n",
            "\u001b[K     |████████████████████████████████| 14.5MB 284kB/s \n",
            "\u001b[?25hCollecting overrides==3.1.0\n",
            "  Downloading https://files.pythonhosted.org/packages/ff/b1/10f69c00947518e6676bbd43e739733048de64b8dd998e9c2d5a71f44c5d/overrides-3.1.0.tar.gz\n",
            "Collecting pandas==1.1.0\n",
            "\u001b[?25l  Downloading https://files.pythonhosted.org/packages/a7/f7/2adca20a7fa71b6a32f823bbd83992adeceab1d8bf72992bb7a55c69c19a/pandas-1.1.0-cp36-cp36m-manylinux1_x86_64.whl (10.5MB)\n",
            "\u001b[K     |████████████████████████████████| 10.5MB 156kB/s \n",
            "\u001b[?25hRequirement already satisfied: python-dateutil==2.8.1 in /usr/local/lib/python3.6/dist-packages (from -r requirements.txt (line 10)) (2.8.1)\n",
            "Collecting pytz==2020.1\n",
            "\u001b[?25l  Downloading https://files.pythonhosted.org/packages/4f/a4/879454d49688e2fad93e59d7d4efda580b783c745fd2ec2a3adf87b0808d/pytz-2020.1-py2.py3-none-any.whl (510kB)\n",
            "\u001b[K     |████████████████████████████████| 512kB 37.7MB/s \n",
            "\u001b[?25hCollecting PyYAML==5.3.1\n",
            "\u001b[?25l  Downloading https://files.pythonhosted.org/packages/64/c2/b80047c7ac2478f9501676c988a5411ed5572f35d1beff9cae07d321512c/PyYAML-5.3.1.tar.gz (269kB)\n",
            "\u001b[K     |████████████████████████████████| 276kB 13.2MB/s \n",
            "\u001b[?25hRequirement already satisfied: s3transfer==0.3.3 in /usr/local/lib/python3.6/dist-packages (from -r requirements.txt (line 13)) (0.3.3)\n",
            "Requirement already satisfied: six==1.15.0 in /usr/local/lib/python3.6/dist-packages (from -r requirements.txt (line 14)) (1.15.0)\n",
            "Collecting urllib3==1.25.10\n",
            "\u001b[?25l  Downloading https://files.pythonhosted.org/packages/9f/f0/a391d1463ebb1b233795cabfc0ef38d3db4442339de68f847026199e69d7/urllib3-1.25.10-py2.py3-none-any.whl (127kB)\n",
            "\u001b[K     |████████████████████████████████| 133kB 44.8MB/s \n",
            "\u001b[?25hBuilding wheels for collected packages: jpbizday, overrides, PyYAML\n",
            "  Building wheel for jpbizday (setup.py) ... \u001b[?25l\u001b[?25hdone\n",
            "  Created wheel for jpbizday: filename=jpbizday-0.0.3-cp36-none-any.whl size=4327 sha256=a81b61fac966f0af845735cd0c6837fa5904b6202382a875ff26711fe5882f1f\n",
            "  Stored in directory: /root/.cache/pip/wheels/22/0b/ae/e12bc194a7a22998e2a13ea88526a6df0f5e9e394d7904b72b\n",
            "  Building wheel for overrides (setup.py) ... \u001b[?25l\u001b[?25hdone\n",
            "  Created wheel for overrides: filename=overrides-3.1.0-cp36-none-any.whl size=10174 sha256=75d382520e6ec217723c3679de3daa18fdd467ae37afd9de3462cb9679f44f3f\n",
            "  Stored in directory: /root/.cache/pip/wheels/5c/24/13/6ef8600e6f147c95e595f1289a86a3cc82ed65df57582c65a9\n",
            "  Building wheel for PyYAML (setup.py) ... \u001b[?25l\u001b[?25hdone\n",
            "  Created wheel for PyYAML: filename=PyYAML-5.3.1-cp36-cp36m-linux_x86_64.whl size=44621 sha256=f312f068c6abb9f2169386d140dd5ca0f2409951c0ddb2fff0d3e344ec9f5ddb\n",
            "  Stored in directory: /root/.cache/pip/wheels/a7/c1/ea/cf5bd31012e735dc1dfea3131a2d5eae7978b251083d6247bd\n",
            "Successfully built jpbizday overrides PyYAML\n",
            "\u001b[31mERROR: kaggle 1.5.6 has requirement urllib3<1.25,>=1.21.1, but you'll have urllib3 1.25.10 which is incompatible.\u001b[0m\n",
            "\u001b[31mERROR: google-colab 1.0.0 has requirement pandas~=1.0.0; python_version >= \"3.0\", but you'll have pandas 1.1.0 which is incompatible.\u001b[0m\n",
            "\u001b[31mERROR: datascience 0.10.6 has requirement folium==0.2.1, but you'll have folium 0.8.3 which is incompatible.\u001b[0m\n",
            "\u001b[31mERROR: albumentations 0.1.12 has requirement imgaug<0.2.7,>=0.2.5, but you'll have imgaug 0.2.9 which is incompatible.\u001b[0m\n",
            "Installing collected packages: urllib3, botocore, boto3, jpholiday, jpbizday, numpy, overrides, pytz, pandas, PyYAML\n",
            "  Found existing installation: urllib3 1.24.3\n",
            "    Uninstalling urllib3-1.24.3:\n",
            "      Successfully uninstalled urllib3-1.24.3\n",
            "  Found existing installation: botocore 1.17.30\n",
            "    Uninstalling botocore-1.17.30:\n",
            "      Successfully uninstalled botocore-1.17.30\n",
            "  Found existing installation: boto3 1.14.30\n",
            "    Uninstalling boto3-1.14.30:\n",
            "      Successfully uninstalled boto3-1.14.30\n",
            "  Found existing installation: numpy 1.18.5\n",
            "    Uninstalling numpy-1.18.5:\n",
            "      Successfully uninstalled numpy-1.18.5\n",
            "  Found existing installation: pytz 2018.9\n",
            "    Uninstalling pytz-2018.9:\n",
            "      Successfully uninstalled pytz-2018.9\n",
            "  Found existing installation: pandas 1.0.5\n",
            "    Uninstalling pandas-1.0.5:\n",
            "      Successfully uninstalled pandas-1.0.5\n",
            "  Found existing installation: PyYAML 3.13\n",
            "    Uninstalling PyYAML-3.13:\n",
            "      Successfully uninstalled PyYAML-3.13\n",
            "Successfully installed PyYAML-5.3.1 boto3-1.14.33 botocore-1.17.33 jpbizday-0.0.3 jpholiday-0.1.4 numpy-1.19.1 overrides-3.1.0 pandas-1.1.0 pytz-2020.1 urllib3-1.25.10\n"
          ],
          "name": "stdout"
        },
        {
          "output_type": "display_data",
          "data": {
            "application/vnd.colab-display-data+json": {
              "pip_warning": {
                "packages": [
                  "numpy",
                  "pandas",
                  "pytz",
                  "urllib3"
                ]
              }
            }
          },
          "metadata": {
            "tags": []
          }
        }
      ]
    },
    {
      "cell_type": "code",
      "metadata": {
        "id": "-wCjUVcVn8px",
        "colab_type": "code",
        "colab": {}
      },
      "source": [
        "!echo 'ACCESS_KEY_ID: *****' >> algotham/config/aws.yml\n",
        "!echo 'SECRET_ACCESS_KEY: *****' >> algotham/config/aws.yml\n",
        "!echo 'REGION_NAME: ap-northeast-1' >> algotham/config/aws.yml\n",
        "!echo 'S3_BUCKET_NAME: fin-app' >> algotham/config/aws.yml"
      ],
      "execution_count": 2,
      "outputs": []
    },
    {
      "cell_type": "code",
      "metadata": {
        "id": "BhNqQHwXs3ZE",
        "colab_type": "code",
        "colab": {}
      },
      "source": [
        "!echo 'STOCKLIST_FILE: s3://fin-app/stocklist/stocklist.csv' >> algotham/config/data_location.yml\n",
        "!echo 'STOCKPRICE_BASEDIR: s3://fin-app/stockprice' >> algotham/config/data_location.yml\n",
        "!echo 'STOCKPRICE_CONCAT_BASEDIR: s3://fin-app/stockprice_concat' >> algotham/config/data_location.yml\n",
        "!echo 'STOCKPRICE_CANDLECHART_BASEDIR: s3://fin-app/stockprice_candlechart' >> algotham/config/data_location.yml\n",
        "!echo 'ECONOMIC_INDICATOR_BASEDIR: s3://fin-app/economic_indicator' >> algotham/config/data_location.yml\n",
        "!echo 'LOCAL_CACHE_DIR: /var/tmp' >> algotham/config/data_location.yml"
      ],
      "execution_count": 6,
      "outputs": []
    },
    {
      "cell_type": "code",
      "metadata": {
        "id": "L9QkVV5nth_X",
        "colab_type": "code",
        "colab": {}
      },
      "source": [
        "!echo 'LOGDIR: /content/Algotham/log' >> algotham/config/dev.yml"
      ],
      "execution_count": 7,
      "outputs": []
    },
    {
      "cell_type": "code",
      "metadata": {
        "id": "jn2Inshws1hw",
        "colab_type": "code",
        "colab": {}
      },
      "source": [
        ""
      ],
      "execution_count": null,
      "outputs": []
    },
    {
      "cell_type": "code",
      "metadata": {
        "id": "PKoYyRS6t0mM",
        "colab_type": "code",
        "colab": {}
      },
      "source": [
        "import sys\n",
        "import random\n",
        "from datetime import datetime, timedelta\n",
        "from typing import List\n",
        "\n",
        "from overrides import overrides\n",
        "import jpbizday\n",
        "\n",
        "from algotham.rule import (\n",
        "    BaseStockSelectionRule,\n",
        "    BaseTimingRule,\n",
        "    BaseVolumeRule\n",
        ")\n",
        "from algotham.data.stock import Stock\n",
        "from algotham.algo import SimulatedAlgo\n",
        "from algotham.simulator.backtest import BackTest\n",
        "from algotham.portfolio import Portfolio"
      ],
      "execution_count": 8,
      "outputs": []
    },
    {
      "cell_type": "code",
      "metadata": {
        "id": "1VMGjxPZt1_v",
        "colab_type": "code",
        "colab": {}
      },
      "source": [
        "start_dt = datetime(2019, 4, 1)\n",
        "end_dt = datetime(2019, 7, 1)"
      ],
      "execution_count": 9,
      "outputs": []
    },
    {
      "cell_type": "code",
      "metadata": {
        "id": "KjTcMJC0t6A4",
        "colab_type": "code",
        "colab": {}
      },
      "source": [
        "class RandomStockSelectionRule(BaseStockSelectionRule):\n",
        "\n",
        "    STOCK_CANDIDATES = [3853, 3987, 6029, 4120, 3747]\n",
        "\n",
        "    @overrides\n",
        "    def select_stocks(self, dt: datetime) -> List[Stock]:\n",
        "\n",
        "        selected_codes = random.sample(\n",
        "            RandomStockSelectionRule.STOCK_CANDIDATES,\n",
        "            3\n",
        "        )\n",
        "        stocks = [Stock(code=code) for code in selected_codes]\n",
        "        return stocks"
      ],
      "execution_count": 10,
      "outputs": []
    },
    {
      "cell_type": "code",
      "metadata": {
        "id": "G6kisFrTt9Wo",
        "colab_type": "code",
        "colab": {}
      },
      "source": [
        "class MarketOpeningTimingRule(BaseTimingRule):\n",
        "\n",
        "    def __init__(self):\n",
        "        self._next_opening = start_dt\n",
        "        self._next_opening = self._next_opening.replace(\n",
        "            hour=9,\n",
        "            minute=0,\n",
        "            second=0\n",
        "        )\n",
        "\n",
        "    @overrides\n",
        "    def wait_for_next(self):\n",
        "        self._next_opening += timedelta(days=1)\n",
        "        while not jpbizday.is_bizday(self._next_opening):\n",
        "            self._next_opening += timedelta(days=1)\n",
        "        print(f'waiting until {self._next_opening }')\n",
        "        self.wait_until(self._next_opening)"
      ],
      "execution_count": 11,
      "outputs": []
    },
    {
      "cell_type": "code",
      "metadata": {
        "id": "n7rWId16uBQL",
        "colab_type": "code",
        "colab": {}
      },
      "source": [
        "class RandomVolumeRule(BaseVolumeRule):\n",
        "\n",
        "    @overrides\n",
        "    def decide_volume(self, stock: Stock, dt: datetime) -> int:\n",
        "        return random.randint(-5, 5)"
      ],
      "execution_count": 12,
      "outputs": []
    },
    {
      "cell_type": "code",
      "metadata": {
        "id": "Ks9k9oVtuAQw",
        "colab_type": "code",
        "colab": {}
      },
      "source": [
        "random_trade_system = SimulatedAlgo(\n",
        "    timing_rule=MarketOpeningTimingRule(),\n",
        "    stock_selection_rule=RandomStockSelectionRule(),\n",
        "    volume_rule=RandomVolumeRule(),\n",
        "    init_portfolio=Portfolio(cash=100000)\n",
        ")"
      ],
      "execution_count": 13,
      "outputs": []
    },
    {
      "cell_type": "code",
      "metadata": {
        "id": "Oa3lfs9xuEwg",
        "colab_type": "code",
        "colab": {}
      },
      "source": [
        "back_test = BackTest(\n",
        "    random_trade_system,\n",
        "    start_dt=start_dt,\n",
        "    end_dt=end_dt,\n",
        ")"
      ],
      "execution_count": 14,
      "outputs": []
    },
    {
      "cell_type": "code",
      "metadata": {
        "id": "mqwbFnoRuGxB",
        "colab_type": "code",
        "colab": {
          "base_uri": "https://localhost:8080/",
          "height": 1000
        },
        "outputId": "fcea3119-010f-4037-efc9-dfc4e0c27d72"
      },
      "source": [
        "back_test.run()"
      ],
      "execution_count": 15,
      "outputs": [
        {
          "output_type": "stream",
          "text": [
            "waiting until 2019-04-02 09:00:00\n"
          ],
          "name": "stdout"
        },
        {
          "output_type": "stream",
          "text": [
            "INFO : 2020-08-02 05:50:27,074 : [CSVHistoricalData] Downloading s3://fin-app/stockprice_concat/3853.csv to /var/tmp/stock/3853.csv\n",
            "INFO : 2020-08-02 05:50:28,328 : [CSVHistoricalData] Downloading s3://fin-app/stockprice_concat/6029.csv to /var/tmp/stock/6029.csv\n"
          ],
          "name": "stderr"
        },
        {
          "output_type": "stream",
          "text": [
            "buy/sell : code=3853 : volume=1 : cash=-927 : \n"
          ],
          "name": "stdout"
        },
        {
          "output_type": "stream",
          "text": [
            "INFO : 2020-08-02 05:50:28,673 : [CSVHistoricalData] Downloading s3://fin-app/stockprice_concat/3747.csv to /var/tmp/stock/3747.csv\n"
          ],
          "name": "stderr"
        },
        {
          "output_type": "stream",
          "text": [
            "buy/sell : code=6029 : volume=3 : cash=-1137 : \n",
            "buy/sell : code=3747 : volume=2 : cash=-596 : \n",
            "waiting until 2019-04-03 09:00:00\n"
          ],
          "name": "stdout"
        },
        {
          "output_type": "stream",
          "text": [
            "INFO : 2020-08-02 05:50:29,500 : [BaseTransaction] Skipped transaction, stock=6029, volume=-4 : stock is insufficient to sell\n",
            "INFO : 2020-08-02 05:50:29,502 : [BaseTransaction] Skipped transaction, stock=3853, volume=-5 : stock is insufficient to sell\n"
          ],
          "name": "stderr"
        },
        {
          "output_type": "stream",
          "text": [
            "buy/sell : code=3747 : volume=-1 : cash=297 : \n",
            "waiting until 2019-04-04 09:00:00\n"
          ],
          "name": "stdout"
        },
        {
          "output_type": "stream",
          "text": [
            "INFO : 2020-08-02 05:50:29,790 : [CSVHistoricalData] Downloading s3://fin-app/stockprice_concat/3987.csv to /var/tmp/stock/3987.csv\n",
            "INFO : 2020-08-02 05:50:30,125 : [CSVHistoricalData] Downloading s3://fin-app/stockprice_concat/4120.csv to /var/tmp/stock/4120.csv\n"
          ],
          "name": "stderr"
        },
        {
          "output_type": "stream",
          "text": [
            "buy/sell : code=3987 : volume=3 : cash=-4965 : \n",
            "buy/sell : code=3747 : volume=1 : cash=-297 : \n"
          ],
          "name": "stdout"
        },
        {
          "output_type": "stream",
          "text": [
            "INFO : 2020-08-02 05:50:30,619 : [BaseTransaction] Skipped transaction, stock=4120, volume=-4 : stock is insufficient to sell\n"
          ],
          "name": "stderr"
        },
        {
          "output_type": "stream",
          "text": [
            "waiting until 2019-04-05 09:00:00\n"
          ],
          "name": "stdout"
        },
        {
          "output_type": "stream",
          "text": [
            "INFO : 2020-08-02 05:50:30,914 : [BaseTransaction] Skipped transaction, stock=3987, volume=-4 : stock is insufficient to sell\n"
          ],
          "name": "stderr"
        },
        {
          "output_type": "stream",
          "text": [
            "buy/sell : code=4120 : volume=2 : cash=-2800 : \n",
            "buy/sell : code=3853 : volume=4 : cash=-3592 : \n",
            "waiting until 2019-04-08 09:00:00\n",
            "buy/sell : code=6029 : volume=3 : cash=-1149 : \n",
            "buy/sell : code=4120 : volume=3 : cash=-4248 : \n",
            "buy/sell : code=3987 : volume=-3 : cash=4881 : \n",
            "waiting until 2019-04-09 09:00:00\n"
          ],
          "name": "stdout"
        },
        {
          "output_type": "stream",
          "text": [
            "INFO : 2020-08-02 05:50:32,046 : [BaseTransaction] Skipped transaction, stock=6029, volume=0 : volume is 0\n"
          ],
          "name": "stderr"
        },
        {
          "output_type": "stream",
          "text": [
            "buy/sell : code=3747 : volume=5 : cash=-1490 : \n",
            "buy/sell : code=3853 : volume=4 : cash=-3552 : \n",
            "waiting until 2019-04-10 09:00:00\n"
          ],
          "name": "stdout"
        },
        {
          "output_type": "stream",
          "text": [
            "INFO : 2020-08-02 05:50:32,332 : [BaseTransaction] Skipped transaction, stock=3987, volume=-4 : stock is insufficient to sell\n"
          ],
          "name": "stderr"
        },
        {
          "output_type": "stream",
          "text": [
            "buy/sell : code=4120 : volume=2 : cash=-2754 : \n",
            "buy/sell : code=3853 : volume=-4 : cash=3544 : \n",
            "waiting until 2019-04-11 09:00:00\n"
          ],
          "name": "stdout"
        },
        {
          "output_type": "stream",
          "text": [
            "INFO : 2020-08-02 05:50:32,665 : [BaseTransaction] Skipped transaction, stock=6029, volume=0 : volume is 0\n"
          ],
          "name": "stderr"
        },
        {
          "output_type": "stream",
          "text": [
            "buy/sell : code=3987 : volume=5 : cash=-7670 : \n",
            "buy/sell : code=3747 : volume=5 : cash=-1475 : \n",
            "waiting until 2019-04-12 09:00:00\n",
            "buy/sell : code=4120 : volume=-5 : cash=6780 : \n",
            "buy/sell : code=3853 : volume=1 : cash=-847 : \n",
            "buy/sell : code=3747 : volume=3 : cash=-879 : \n",
            "waiting until 2019-04-15 09:00:00\n",
            "buy/sell : code=4120 : volume=5 : cash=-6735 : \n",
            "buy/sell : code=6029 : volume=-1 : cash=375 : \n",
            "buy/sell : code=3747 : volume=3 : cash=-876 : \n",
            "waiting until 2019-04-16 09:00:00\n"
          ],
          "name": "stdout"
        },
        {
          "output_type": "stream",
          "text": [
            "INFO : 2020-08-02 05:50:34,076 : [BaseTransaction] Skipped transaction, stock=4120, volume=0 : volume is 0\n"
          ],
          "name": "stderr"
        },
        {
          "output_type": "stream",
          "text": [
            "buy/sell : code=3747 : volume=-2 : cash=572 : \n",
            "buy/sell : code=3853 : volume=2 : cash=-1698 : \n",
            "waiting until 2019-04-17 09:00:00\n",
            "buy/sell : code=6029 : volume=2 : cash=-762 : \n",
            "buy/sell : code=4120 : volume=2 : cash=-2750 : \n",
            "buy/sell : code=3853 : volume=-1 : cash=842 : \n",
            "waiting until 2019-04-18 09:00:00\n",
            "buy/sell : code=3853 : volume=-1 : cash=838 : \n",
            "buy/sell : code=3747 : volume=-4 : cash=1132 : \n",
            "buy/sell : code=6029 : volume=-4 : cash=1508 : \n",
            "waiting until 2019-04-19 09:00:00\n"
          ],
          "name": "stdout"
        },
        {
          "output_type": "stream",
          "text": [
            "INFO : 2020-08-02 05:50:34,938 : [BaseTransaction] Skipped transaction, stock=3987, volume=0 : volume is 0\n"
          ],
          "name": "stderr"
        },
        {
          "output_type": "stream",
          "text": [
            "buy/sell : code=4120 : volume=-1 : cash=1377 : \n",
            "buy/sell : code=3853 : volume=5 : cash=-4165 : \n",
            "waiting until 2019-04-22 09:00:00\n"
          ],
          "name": "stdout"
        },
        {
          "output_type": "stream",
          "text": [
            "INFO : 2020-08-02 05:50:35,799 : [BaseTransaction] Skipped transaction, stock=3987, volume=0 : volume is 0\n"
          ],
          "name": "stderr"
        },
        {
          "output_type": "stream",
          "text": [
            "buy/sell : code=3747 : volume=2 : cash=-556 : \n",
            "buy/sell : code=3853 : volume=5 : cash=-4155 : \n",
            "waiting until 2019-04-23 09:00:00\n"
          ],
          "name": "stdout"
        },
        {
          "output_type": "stream",
          "text": [
            "INFO : 2020-08-02 05:50:36,097 : [BaseTransaction] Skipped transaction, stock=3747, volume=0 : volume is 0\n"
          ],
          "name": "stderr"
        },
        {
          "output_type": "stream",
          "text": [
            "buy/sell : code=4120 : volume=2 : cash=-2806 : \n",
            "buy/sell : code=3853 : volume=-2 : cash=1650 : \n",
            "waiting until 2019-04-24 09:00:00\n",
            "buy/sell : code=3853 : volume=3 : cash=-2454 : \n",
            "buy/sell : code=3747 : volume=-1 : cash=276 : \n",
            "buy/sell : code=4120 : volume=4 : cash=-5604 : \n",
            "waiting until 2019-04-25 09:00:00\n"
          ],
          "name": "stdout"
        },
        {
          "output_type": "stream",
          "text": [
            "INFO : 2020-08-02 05:50:36,683 : [BaseTransaction] Skipped transaction, stock=3747, volume=0 : volume is 0\n"
          ],
          "name": "stderr"
        },
        {
          "output_type": "stream",
          "text": [
            "buy/sell : code=3987 : volume=5 : cash=-8165 : \n",
            "buy/sell : code=6029 : volume=5 : cash=-1890 : \n",
            "waiting until 2019-04-26 09:00:00\n",
            "buy/sell : code=6029 : volume=4 : cash=-1484 : \n",
            "buy/sell : code=4120 : volume=-2 : cash=2818 : \n",
            "buy/sell : code=3853 : volume=-2 : cash=1580 : \n",
            "waiting until 2019-04-30 09:00:00\n"
          ],
          "name": "stdout"
        },
        {
          "output_type": "stream",
          "text": [
            "INFO : 2020-08-02 05:50:38,135 : [BaseTransaction] Skipped transaction, stock=4120, volume=5 : stock price data is missing\n",
            "INFO : 2020-08-02 05:50:38,137 : [BaseTransaction] Skipped transaction, stock=3853, volume=-3 : stock price data is missing\n",
            "INFO : 2020-08-02 05:50:38,150 : [BaseTransaction] Skipped transaction, stock=3747, volume=5 : stock price data is missing\n"
          ],
          "name": "stderr"
        },
        {
          "output_type": "stream",
          "text": [
            "stock data not found : 2019-04-30 00:00:00\n",
            "stock data not found : 2019-04-30 00:00:00\n",
            "stock data not found : 2019-04-30 00:00:00\n",
            "waiting until 2019-05-01 09:00:00\n"
          ],
          "name": "stdout"
        },
        {
          "output_type": "stream",
          "text": [
            "INFO : 2020-08-02 05:50:38,438 : [BaseTransaction] Skipped transaction, stock=6029, volume=-1 : stock price data is missing\n",
            "INFO : 2020-08-02 05:50:38,440 : [BaseTransaction] Skipped transaction, stock=3987, volume=-4 : stock price data is missing\n",
            "INFO : 2020-08-02 05:50:38,448 : [BaseTransaction] Skipped transaction, stock=3853, volume=-3 : stock price data is missing\n"
          ],
          "name": "stderr"
        },
        {
          "output_type": "stream",
          "text": [
            "stock data not found : 2019-05-01 00:00:00\n",
            "stock data not found : 2019-05-01 00:00:00\n",
            "stock data not found : 2019-05-01 00:00:00\n",
            "waiting until 2019-05-02 09:00:00\n"
          ],
          "name": "stdout"
        },
        {
          "output_type": "stream",
          "text": [
            "INFO : 2020-08-02 05:50:38,734 : [BaseTransaction] Skipped transaction, stock=3853, volume=5 : stock price data is missing\n",
            "INFO : 2020-08-02 05:50:38,740 : [BaseTransaction] Skipped transaction, stock=3987, volume=1 : stock price data is missing\n",
            "INFO : 2020-08-02 05:50:38,742 : [BaseTransaction] Skipped transaction, stock=6029, volume=0 : volume is 0\n"
          ],
          "name": "stderr"
        },
        {
          "output_type": "stream",
          "text": [
            "stock data not found : 2019-05-02 00:00:00\n",
            "stock data not found : 2019-05-02 00:00:00\n",
            "waiting until 2019-05-07 09:00:00\n",
            "buy/sell : code=6029 : volume=-2 : cash=764 : \n",
            "buy/sell : code=3853 : volume=3 : cash=-2418 : \n",
            "buy/sell : code=3987 : volume=-4 : cash=6728 : \n",
            "waiting until 2019-05-08 09:00:00\n",
            "buy/sell : code=3853 : volume=-1 : cash=807 : \n",
            "buy/sell : code=6029 : volume=-3 : cash=1167 : \n",
            "buy/sell : code=3987 : volume=3 : cash=-5262 : \n",
            "waiting until 2019-05-09 09:00:00\n",
            "buy/sell : code=3747 : volume=-2 : cash=532 : \n",
            "buy/sell : code=3853 : volume=3 : cash=-2382 : \n",
            "buy/sell : code=3987 : volume=-1 : cash=1793 : \n",
            "waiting until 2019-05-10 09:00:00\n",
            "buy/sell : code=4120 : volume=1 : cash=-1336 : \n",
            "buy/sell : code=3747 : volume=-2 : cash=524 : \n",
            "buy/sell : code=3987 : volume=-5 : cash=8785 : \n",
            "waiting until 2019-05-13 09:00:00\n",
            "buy/sell : code=3747 : volume=-3 : cash=768 : \n",
            "buy/sell : code=6029 : volume=2 : cash=-610 : \n",
            "buy/sell : code=4120 : volume=-2 : cash=2674 : \n",
            "waiting until 2019-05-14 09:00:00\n"
          ],
          "name": "stdout"
        },
        {
          "output_type": "stream",
          "text": [
            "INFO : 2020-08-02 05:50:42,205 : [BaseTransaction] Skipped transaction, stock=3987, volume=0 : volume is 0\n"
          ],
          "name": "stderr"
        },
        {
          "output_type": "stream",
          "text": [
            "buy/sell : code=4120 : volume=-5 : cash=6575 : \n",
            "buy/sell : code=6029 : volume=-4 : cash=1092 : \n",
            "waiting until 2019-05-15 09:00:00\n",
            "buy/sell : code=4120 : volume=-5 : cash=6670 : \n",
            "buy/sell : code=3853 : volume=-2 : cash=1982 : \n",
            "buy/sell : code=3747 : volume=-3 : cash=747 : \n",
            "waiting until 2019-05-16 09:00:00\n"
          ],
          "name": "stdout"
        },
        {
          "output_type": "stream",
          "text": [
            "INFO : 2020-08-02 05:50:42,853 : [BaseTransaction] Skipped transaction, stock=6029, volume=0 : volume is 0\n"
          ],
          "name": "stderr"
        },
        {
          "output_type": "stream",
          "text": [
            "buy/sell : code=4120 : volume=2 : cash=-2622 : \n",
            "buy/sell : code=3853 : volume=4 : cash=-4024 : \n",
            "waiting until 2019-05-17 09:00:00\n"
          ],
          "name": "stdout"
        },
        {
          "output_type": "stream",
          "text": [
            "INFO : 2020-08-02 05:50:43,148 : [BaseTransaction] Skipped transaction, stock=4120, volume=-5 : stock is insufficient to sell\n"
          ],
          "name": "stderr"
        },
        {
          "output_type": "stream",
          "text": [
            "buy/sell : code=3747 : volume=-3 : cash=696 : \n",
            "buy/sell : code=6029 : volume=5 : cash=-1415 : \n",
            "waiting until 2019-05-20 09:00:00\n",
            "buy/sell : code=3747 : volume=1 : cash=-249 : \n",
            "buy/sell : code=4120 : volume=4 : cash=-5184 : \n",
            "buy/sell : code=6029 : volume=-2 : cash=578 : \n",
            "waiting until 2019-05-21 09:00:00\n",
            "buy/sell : code=6029 : volume=-4 : cash=1168 : \n",
            "buy/sell : code=4120 : volume=-4 : cash=5224 : \n",
            "buy/sell : code=3853 : volume=5 : cash=-5145 : \n",
            "waiting until 2019-05-22 09:00:00\n"
          ],
          "name": "stdout"
        },
        {
          "output_type": "stream",
          "text": [
            "INFO : 2020-08-02 05:50:44,559 : [BaseTransaction] Skipped transaction, stock=4120, volume=0 : volume is 0\n"
          ],
          "name": "stderr"
        },
        {
          "output_type": "stream",
          "text": [
            "buy/sell : code=3747 : volume=1 : cash=-236 : \n",
            "buy/sell : code=6029 : volume=4 : cash=-1164 : \n",
            "waiting until 2019-05-23 09:00:00\n",
            "buy/sell : code=3747 : volume=-1 : cash=233 : \n",
            "buy/sell : code=3987 : volume=-3 : cash=4506 : \n",
            "buy/sell : code=4120 : volume=4 : cash=-5256 : \n",
            "waiting until 2019-05-24 09:00:00\n",
            "buy/sell : code=4120 : volume=5 : cash=-6475 : \n",
            "buy/sell : code=3747 : volume=4 : cash=-908 : \n",
            "buy/sell : code=3853 : volume=2 : cash=-2060 : \n",
            "waiting until 2019-05-27 09:00:00\n"
          ],
          "name": "stdout"
        },
        {
          "output_type": "stream",
          "text": [
            "INFO : 2020-08-02 05:50:45,992 : [BaseTransaction] Skipped transaction, stock=4120, volume=0 : volume is 0\n"
          ],
          "name": "stderr"
        },
        {
          "output_type": "stream",
          "text": [
            "buy/sell : code=3747 : volume=-2 : cash=460 : \n",
            "buy/sell : code=3987 : volume=3 : cash=-4614 : \n",
            "waiting until 2019-05-28 09:00:00\n",
            "buy/sell : code=3987 : volume=-1 : cash=1557 : \n",
            "buy/sell : code=6029 : volume=-3 : cash=864 : \n",
            "buy/sell : code=3853 : volume=2 : cash=-2202 : \n",
            "waiting until 2019-05-29 09:00:00\n",
            "buy/sell : code=6029 : volume=-3 : cash=861 : \n",
            "buy/sell : code=3747 : volume=1 : cash=-237 : \n",
            "buy/sell : code=3987 : volume=1 : cash=-1515 : \n",
            "waiting until 2019-05-30 09:00:00\n",
            "buy/sell : code=3987 : volume=5 : cash=-7330 : \n",
            "buy/sell : code=4120 : volume=-5 : cash=6395 : \n",
            "buy/sell : code=3853 : volume=2 : cash=-2220 : \n",
            "waiting until 2019-05-31 09:00:00\n",
            "buy/sell : code=6029 : volume=-2 : cash=570 : \n",
            "buy/sell : code=3747 : volume=5 : cash=-1180 : \n",
            "buy/sell : code=3853 : volume=-4 : cash=4416 : \n",
            "waiting until 2019-06-03 09:00:00\n"
          ],
          "name": "stdout"
        },
        {
          "output_type": "stream",
          "text": [
            "INFO : 2020-08-02 05:50:48,002 : [BaseTransaction] Skipped transaction, stock=6029, volume=-2 : stock is insufficient to sell\n"
          ],
          "name": "stderr"
        },
        {
          "output_type": "stream",
          "text": [
            "buy/sell : code=3987 : volume=-3 : cash=4182 : \n",
            "buy/sell : code=3853 : volume=-5 : cash=5190 : \n",
            "waiting until 2019-06-04 09:00:00\n",
            "buy/sell : code=3853 : volume=1 : cash=-1001 : \n",
            "buy/sell : code=4120 : volume=-5 : cash=6095 : \n",
            "buy/sell : code=3747 : volume=4 : cash=-868 : \n",
            "waiting until 2019-06-05 09:00:00\n"
          ],
          "name": "stdout"
        },
        {
          "output_type": "stream",
          "text": [
            "INFO : 2020-08-02 05:50:48,595 : [BaseTransaction] Skipped transaction, stock=4120, volume=-4 : stock is insufficient to sell\n"
          ],
          "name": "stderr"
        },
        {
          "output_type": "stream",
          "text": [
            "buy/sell : code=3853 : volume=-4 : cash=4036 : \n",
            "buy/sell : code=3987 : volume=-1 : cash=1414 : \n",
            "waiting until 2019-06-06 09:00:00\n",
            "buy/sell : code=3747 : volume=1 : cash=-221 : \n",
            "buy/sell : code=6029 : volume=3 : cash=-843 : \n",
            "buy/sell : code=3853 : volume=5 : cash=-4965 : \n",
            "waiting until 2019-06-07 09:00:00\n"
          ],
          "name": "stdout"
        },
        {
          "output_type": "stream",
          "text": [
            "INFO : 2020-08-02 05:50:49,171 : [BaseTransaction] Skipped transaction, stock=6029, volume=0 : volume is 0\n"
          ],
          "name": "stderr"
        },
        {
          "output_type": "stream",
          "text": [
            "buy/sell : code=3853 : volume=-2 : cash=1996 : \n",
            "buy/sell : code=3987 : volume=-1 : cash=1401 : \n",
            "waiting until 2019-06-10 09:00:00\n"
          ],
          "name": "stdout"
        },
        {
          "output_type": "stream",
          "text": [
            "INFO : 2020-08-02 05:50:50,012 : [BaseTransaction] Skipped transaction, stock=3987, volume=-4 : stock is insufficient to sell\n",
            "INFO : 2020-08-02 05:50:50,015 : [BaseTransaction] Skipped transaction, stock=6029, volume=-5 : stock is insufficient to sell\n"
          ],
          "name": "stderr"
        },
        {
          "output_type": "stream",
          "text": [
            "buy/sell : code=3747 : volume=-5 : cash=1145 : \n",
            "waiting until 2019-06-11 09:00:00\n",
            "buy/sell : code=3987 : volume=-3 : cash=4332 : \n",
            "buy/sell : code=6029 : volume=3 : cash=-858 : \n",
            "buy/sell : code=3747 : volume=2 : cash=-460 : \n",
            "waiting until 2019-06-12 09:00:00\n",
            "buy/sell : code=4120 : volume=4 : cash=-4868 : \n",
            "buy/sell : code=3987 : volume=5 : cash=-7275 : \n",
            "buy/sell : code=3747 : volume=-2 : cash=458 : \n",
            "waiting until 2019-06-13 09:00:00\n"
          ],
          "name": "stdout"
        },
        {
          "output_type": "stream",
          "text": [
            "INFO : 2020-08-02 05:50:50,929 : [BaseTransaction] Skipped transaction, stock=4120, volume=0 : volume is 0\n"
          ],
          "name": "stderr"
        },
        {
          "output_type": "stream",
          "text": [
            "buy/sell : code=3853 : volume=-1 : cash=967 : \n",
            "buy/sell : code=3747 : volume=2 : cash=-450 : \n",
            "waiting until 2019-06-14 09:00:00\n",
            "buy/sell : code=3747 : volume=3 : cash=-666 : \n",
            "buy/sell : code=6029 : volume=3 : cash=-846 : \n",
            "buy/sell : code=3987 : volume=-1 : cash=1469 : \n",
            "waiting until 2019-06-17 09:00:00\n"
          ],
          "name": "stdout"
        },
        {
          "output_type": "stream",
          "text": [
            "INFO : 2020-08-02 05:50:52,066 : [BaseTransaction] Skipped transaction, stock=3747, volume=0 : volume is 0\n"
          ],
          "name": "stderr"
        },
        {
          "output_type": "stream",
          "text": [
            "buy/sell : code=3853 : volume=3 : cash=-3063 : \n",
            "buy/sell : code=4120 : volume=-1 : cash=1226 : \n",
            "waiting until 2019-06-18 09:00:00\n",
            "buy/sell : code=3987 : volume=3 : cash=-4557 : \n",
            "buy/sell : code=6029 : volume=-1 : cash=282 : \n",
            "buy/sell : code=4120 : volume=-4 : cash=4864 : \n",
            "waiting until 2019-06-19 09:00:00\n"
          ],
          "name": "stdout"
        },
        {
          "output_type": "stream",
          "text": [
            "INFO : 2020-08-02 05:50:52,656 : [BaseTransaction] Skipped transaction, stock=4120, volume=0 : volume is 0\n",
            "INFO : 2020-08-02 05:50:52,658 : [BaseTransaction] Skipped transaction, stock=3747, volume=0 : volume is 0\n"
          ],
          "name": "stderr"
        },
        {
          "output_type": "stream",
          "text": [
            "buy/sell : code=3853 : volume=-1 : cash=1012 : \n",
            "waiting until 2019-06-20 09:00:00\n",
            "buy/sell : code=4120 : volume=3 : cash=-3657 : \n",
            "buy/sell : code=3987 : volume=-4 : cash=6000 : \n",
            "buy/sell : code=3747 : volume=2 : cash=-442 : \n",
            "waiting until 2019-06-21 09:00:00\n",
            "buy/sell : code=3747 : volume=-4 : cash=876 : \n",
            "buy/sell : code=3853 : volume=5 : cash=-5245 : \n",
            "buy/sell : code=6029 : volume=5 : cash=-1385 : \n",
            "waiting until 2019-06-24 09:00:00\n",
            "buy/sell : code=6029 : volume=3 : cash=-825 : \n",
            "buy/sell : code=3853 : volume=-5 : cash=5285 : \n",
            "buy/sell : code=3747 : volume=-2 : cash=434 : \n",
            "waiting until 2019-06-25 09:00:00\n"
          ],
          "name": "stdout"
        },
        {
          "output_type": "stream",
          "text": [
            "INFO : 2020-08-02 05:50:54,393 : [BaseTransaction] Skipped transaction, stock=4120, volume=-3 : stock price data is missing\n"
          ],
          "name": "stderr"
        },
        {
          "output_type": "stream",
          "text": [
            "buy/sell : code=6029 : volume=-5 : cash=1385 : \n",
            "stock data not found : 2019-06-25 00:00:00\n",
            "buy/sell : code=3853 : volume=1 : cash=-1050 : \n",
            "waiting until 2019-06-26 09:00:00\n",
            "buy/sell : code=3853 : volume=-1 : cash=1070 : \n",
            "buy/sell : code=3747 : volume=-4 : cash=872 : \n",
            "buy/sell : code=4120 : volume=-2 : cash=2434 : \n",
            "waiting until 2019-06-27 09:00:00\n"
          ],
          "name": "stdout"
        },
        {
          "output_type": "stream",
          "text": [
            "INFO : 2020-08-02 05:50:54,973 : [BaseTransaction] Skipped transaction, stock=4120, volume=-4 : stock is insufficient to sell\n"
          ],
          "name": "stderr"
        },
        {
          "output_type": "stream",
          "text": [
            "buy/sell : code=3853 : volume=1 : cash=-1100 : \n",
            "buy/sell : code=3987 : volume=4 : cash=-6264 : \n",
            "waiting until 2019-06-28 09:00:00\n",
            "buy/sell : code=4120 : volume=1 : cash=-1208 : \n",
            "buy/sell : code=3853 : volume=1 : cash=-1100 : \n",
            "buy/sell : code=3747 : volume=-5 : cash=1105 : \n",
            "waiting until 2019-07-01 09:00:00\n"
          ],
          "name": "stdout"
        }
      ]
    },
    {
      "cell_type": "code",
      "metadata": {
        "id": "nm-jrdBTuKdo",
        "colab_type": "code",
        "colab": {}
      },
      "source": [
        "result = back_test.result()"
      ],
      "execution_count": 16,
      "outputs": []
    },
    {
      "cell_type": "code",
      "metadata": {
        "id": "lR6qnBWhuT7_",
        "colab_type": "code",
        "colab": {}
      },
      "source": [
        "import pandas as pd\n",
        "import matplotlib.pyplot as plt"
      ],
      "execution_count": 22,
      "outputs": []
    },
    {
      "cell_type": "code",
      "metadata": {
        "id": "TxACerjmufCE",
        "colab_type": "code",
        "colab": {}
      },
      "source": [
        "df_transaction_history = result.transaction_history"
      ],
      "execution_count": 18,
      "outputs": []
    },
    {
      "cell_type": "code",
      "metadata": {
        "id": "zz5LC_7huj0d",
        "colab_type": "code",
        "colab": {
          "base_uri": "https://localhost:8080/",
          "height": 407
        },
        "outputId": "6600009f-86da-464d-9310-bda872c48cc1"
      },
      "source": [
        "df_transaction_history"
      ],
      "execution_count": 19,
      "outputs": [
        {
          "output_type": "execute_result",
          "data": {
            "text/html": [
              "<div>\n",
              "<style scoped>\n",
              "    .dataframe tbody tr th:only-of-type {\n",
              "        vertical-align: middle;\n",
              "    }\n",
              "\n",
              "    .dataframe tbody tr th {\n",
              "        vertical-align: top;\n",
              "    }\n",
              "\n",
              "    .dataframe thead th {\n",
              "        text-align: right;\n",
              "    }\n",
              "</style>\n",
              "<table border=\"1\" class=\"dataframe\">\n",
              "  <thead>\n",
              "    <tr style=\"text-align: right;\">\n",
              "      <th></th>\n",
              "      <th>datetime</th>\n",
              "      <th>stock</th>\n",
              "      <th>volume</th>\n",
              "    </tr>\n",
              "  </thead>\n",
              "  <tbody>\n",
              "    <tr>\n",
              "      <th>0</th>\n",
              "      <td>2019-04-02 09:00:00</td>\n",
              "      <td>3853</td>\n",
              "      <td>1</td>\n",
              "    </tr>\n",
              "    <tr>\n",
              "      <th>1</th>\n",
              "      <td>2019-04-02 09:00:00</td>\n",
              "      <td>6029</td>\n",
              "      <td>3</td>\n",
              "    </tr>\n",
              "    <tr>\n",
              "      <th>2</th>\n",
              "      <td>2019-04-02 09:00:00</td>\n",
              "      <td>3747</td>\n",
              "      <td>2</td>\n",
              "    </tr>\n",
              "    <tr>\n",
              "      <th>3</th>\n",
              "      <td>2019-04-03 09:00:00</td>\n",
              "      <td>3747</td>\n",
              "      <td>-1</td>\n",
              "    </tr>\n",
              "    <tr>\n",
              "      <th>4</th>\n",
              "      <td>2019-04-04 09:00:00</td>\n",
              "      <td>3987</td>\n",
              "      <td>3</td>\n",
              "    </tr>\n",
              "    <tr>\n",
              "      <th>...</th>\n",
              "      <td>...</td>\n",
              "      <td>...</td>\n",
              "      <td>...</td>\n",
              "    </tr>\n",
              "    <tr>\n",
              "      <th>141</th>\n",
              "      <td>2019-06-27 09:00:00</td>\n",
              "      <td>3853</td>\n",
              "      <td>1</td>\n",
              "    </tr>\n",
              "    <tr>\n",
              "      <th>142</th>\n",
              "      <td>2019-06-27 09:00:00</td>\n",
              "      <td>3987</td>\n",
              "      <td>4</td>\n",
              "    </tr>\n",
              "    <tr>\n",
              "      <th>143</th>\n",
              "      <td>2019-06-28 09:00:00</td>\n",
              "      <td>4120</td>\n",
              "      <td>1</td>\n",
              "    </tr>\n",
              "    <tr>\n",
              "      <th>144</th>\n",
              "      <td>2019-06-28 09:00:00</td>\n",
              "      <td>3853</td>\n",
              "      <td>1</td>\n",
              "    </tr>\n",
              "    <tr>\n",
              "      <th>145</th>\n",
              "      <td>2019-06-28 09:00:00</td>\n",
              "      <td>3747</td>\n",
              "      <td>-5</td>\n",
              "    </tr>\n",
              "  </tbody>\n",
              "</table>\n",
              "<p>146 rows × 3 columns</p>\n",
              "</div>"
            ],
            "text/plain": [
              "               datetime  stock  volume\n",
              "0   2019-04-02 09:00:00   3853       1\n",
              "1   2019-04-02 09:00:00   6029       3\n",
              "2   2019-04-02 09:00:00   3747       2\n",
              "3   2019-04-03 09:00:00   3747      -1\n",
              "4   2019-04-04 09:00:00   3987       3\n",
              "..                  ...    ...     ...\n",
              "141 2019-06-27 09:00:00   3853       1\n",
              "142 2019-06-27 09:00:00   3987       4\n",
              "143 2019-06-28 09:00:00   4120       1\n",
              "144 2019-06-28 09:00:00   3853       1\n",
              "145 2019-06-28 09:00:00   3747      -5\n",
              "\n",
              "[146 rows x 3 columns]"
            ]
          },
          "metadata": {
            "tags": []
          },
          "execution_count": 19
        }
      ]
    },
    {
      "cell_type": "code",
      "metadata": {
        "id": "hXymucg4uWgP",
        "colab_type": "code",
        "colab": {}
      },
      "source": [
        "portfolio_history = result.portfolio_history\n",
        "df_portfolio_history = pd.DataFrame({\n",
        "    'datetime': portfolio_history['datetime'],\n",
        "    'total_asset': portfolio_history['total_asset']\n",
        "})\n",
        "df_portfolio_history['datetime'] = pd.to_datetime(df_portfolio_history['datetime'])"
      ],
      "execution_count": 20,
      "outputs": []
    },
    {
      "cell_type": "code",
      "metadata": {
        "id": "oU2uloQ-unT4",
        "colab_type": "code",
        "colab": {
          "base_uri": "https://localhost:8080/",
          "height": 407
        },
        "outputId": "8cad4e37-4c47-43ea-bdfa-6fb12a5e35f7"
      },
      "source": [
        "df_portfolio_history"
      ],
      "execution_count": 21,
      "outputs": [
        {
          "output_type": "execute_result",
          "data": {
            "text/html": [
              "<div>\n",
              "<style scoped>\n",
              "    .dataframe tbody tr th:only-of-type {\n",
              "        vertical-align: middle;\n",
              "    }\n",
              "\n",
              "    .dataframe tbody tr th {\n",
              "        vertical-align: top;\n",
              "    }\n",
              "\n",
              "    .dataframe thead th {\n",
              "        text-align: right;\n",
              "    }\n",
              "</style>\n",
              "<table border=\"1\" class=\"dataframe\">\n",
              "  <thead>\n",
              "    <tr style=\"text-align: right;\">\n",
              "      <th></th>\n",
              "      <th>datetime</th>\n",
              "      <th>total_asset</th>\n",
              "    </tr>\n",
              "  </thead>\n",
              "  <tbody>\n",
              "    <tr>\n",
              "      <th>0</th>\n",
              "      <td>2019-04-02 09:00:00</td>\n",
              "      <td>100000.0</td>\n",
              "    </tr>\n",
              "    <tr>\n",
              "      <th>1</th>\n",
              "      <td>2019-04-02 09:00:00</td>\n",
              "      <td>100000.0</td>\n",
              "    </tr>\n",
              "    <tr>\n",
              "      <th>2</th>\n",
              "      <td>2019-04-02 09:00:00</td>\n",
              "      <td>100000.0</td>\n",
              "    </tr>\n",
              "    <tr>\n",
              "      <th>3</th>\n",
              "      <td>2019-04-03 09:00:00</td>\n",
              "      <td>99999.0</td>\n",
              "    </tr>\n",
              "    <tr>\n",
              "      <th>4</th>\n",
              "      <td>2019-04-04 09:00:00</td>\n",
              "      <td>99995.0</td>\n",
              "    </tr>\n",
              "    <tr>\n",
              "      <th>...</th>\n",
              "      <td>...</td>\n",
              "      <td>...</td>\n",
              "    </tr>\n",
              "    <tr>\n",
              "      <th>141</th>\n",
              "      <td>2019-06-27 09:00:00</td>\n",
              "      <td>102963.0</td>\n",
              "    </tr>\n",
              "    <tr>\n",
              "      <th>142</th>\n",
              "      <td>2019-06-27 09:00:00</td>\n",
              "      <td>102963.0</td>\n",
              "    </tr>\n",
              "    <tr>\n",
              "      <th>143</th>\n",
              "      <td>2019-06-28 09:00:00</td>\n",
              "      <td>103083.0</td>\n",
              "    </tr>\n",
              "    <tr>\n",
              "      <th>144</th>\n",
              "      <td>2019-06-28 09:00:00</td>\n",
              "      <td>103083.0</td>\n",
              "    </tr>\n",
              "    <tr>\n",
              "      <th>145</th>\n",
              "      <td>2019-06-28 09:00:00</td>\n",
              "      <td>103083.0</td>\n",
              "    </tr>\n",
              "  </tbody>\n",
              "</table>\n",
              "<p>146 rows × 2 columns</p>\n",
              "</div>"
            ],
            "text/plain": [
              "               datetime  total_asset\n",
              "0   2019-04-02 09:00:00     100000.0\n",
              "1   2019-04-02 09:00:00     100000.0\n",
              "2   2019-04-02 09:00:00     100000.0\n",
              "3   2019-04-03 09:00:00      99999.0\n",
              "4   2019-04-04 09:00:00      99995.0\n",
              "..                  ...          ...\n",
              "141 2019-06-27 09:00:00     102963.0\n",
              "142 2019-06-27 09:00:00     102963.0\n",
              "143 2019-06-28 09:00:00     103083.0\n",
              "144 2019-06-28 09:00:00     103083.0\n",
              "145 2019-06-28 09:00:00     103083.0\n",
              "\n",
              "[146 rows x 2 columns]"
            ]
          },
          "metadata": {
            "tags": []
          },
          "execution_count": 21
        }
      ]
    },
    {
      "cell_type": "code",
      "metadata": {
        "id": "IOi56P_vuoYB",
        "colab_type": "code",
        "colab": {
          "base_uri": "https://localhost:8080/",
          "height": 311
        },
        "outputId": "6429b8b4-b57e-4754-cc37-1dbefd1d35be"
      },
      "source": [
        "plt.plot(df_portfolio_history['datetime'], df_portfolio_history['total_asset'], marker='o')\n",
        "plt.xticks(rotation=30)\n",
        "plt.ylabel('total asset')"
      ],
      "execution_count": 27,
      "outputs": [
        {
          "output_type": "execute_result",
          "data": {
            "text/plain": [
              "Text(0, 0.5, 'total asset')"
            ]
          },
          "metadata": {
            "tags": []
          },
          "execution_count": 27
        },
        {
          "output_type": "display_data",
          "data": {
            "image/png": "[encoded data removed]",
            "text/plain": [
              "<Figure size 432x288 with 1 Axes>"
            ]
          },
          "metadata": {
            "tags": [],
            "needs_background": "light"
          }
        }
      ]
    },
    {
      "cell_type": "code",
      "metadata": {
        "id": "LCPy-SBzuxL4",
        "colab_type": "code",
        "colab": {}
      },
      "source": [
        ""
      ],
      "execution_count": null,
      "outputs": []
    }
  ]
}